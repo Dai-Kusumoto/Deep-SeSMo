{
 "cells": [
  {
   "cell_type": "code",
   "execution_count": null,
   "metadata": {
    "collapsed": true
   },
   "outputs": [],
   "source": [
    "import scipy.misc\n",
    "from scipy import ndimage\n",
    "import sys\n",
    "import os\n",
    "import glob\n",
    "import json\n",
    "from collections import defaultdict\n",
    "import numpy as np\n",
    "import cv2\n",
    "import matplotlib.pyplot as plt\n",
    "import matplotlib as mpl"
   ]
  },
  {
   "cell_type": "code",
   "execution_count": null,
   "metadata": {
    "collapsed": true
   },
   "outputs": [],
   "source": [
    "#parameters\n",
    "\n",
    "directory_path_0 = \"/home/Demo/pics/training_data/control/\"  # Directory of  images\n",
    "directory_path_1 = \"/home/Demo/pics/training_data/stress/\"\n",
    "directory_path_2 = \"\"\n",
    "directory_path_3 = \"\"\n",
    "\n",
    "binimg_thred = 5   # Threshold for image binarization (recomendation value: 1 - 10)\n",
    "n_chan=3               # Number of channels of images\n",
    "chs = 0                    # Channel for image binarization (0:Red, 1:Green, 2:Blue)\n",
    "fluoro = False         # True: Image binarization for fluorescent images, False: Image binarization for phase-contrast images\n",
    "min_area = 50       # Minimam area for cell detection, to exclude noises)\n",
    "\n",
    "scale_v = 25         # Image width/2 (px)\n",
    "scale_h = 25         # Image height/2 (px)"
   ]
  },
  {
   "cell_type": "code",
   "execution_count": null,
   "metadata": {
    "collapsed": true
   },
   "outputs": [],
   "source": [
    "def making_pics_list(directory_path):\n",
    "                \n",
    "    path = directory_path + \"*\"  \n",
    "    filenames = glob.glob(path)\n",
    "    \n",
    "    return filenames"
   ]
  },
  {
   "cell_type": "code",
   "execution_count": null,
   "metadata": {
    "collapsed": true
   },
   "outputs": [],
   "source": [
    "def cell_crop_single(single_img, binimg_thred = 5., min_area=50, scale_v=25, scale_h=25, chs=0, fluoro=False):\n",
    "    \n",
    "    cells = np.empty((0, scale_v*2, scale_h*2, 3))\n",
    "    \n",
    "    img = single_img.astype(np.uint8)\n",
    "    img_chs = cv2.split(img)\n",
    "    img_preprocessed = cv2.GaussianBlur(img_chs[chs],(5,5),0)\n",
    "    if fluoro==False:\n",
    "        binimg = (img_preprocessed < np.percentile(img_preprocessed, binimg_thred))\n",
    "        binimg = binimg.astype(np.uint8)\n",
    "    else:\n",
    "        binimg = (img_preprocessed > np.percentile(img_preprocessed, binimg_thred))\n",
    "        binimg = binimg.astype(np.uint8)\n",
    "\n",
    "    img_, contours, _ = cv2.findContours(binimg, cv2.RETR_EXTERNAL, cv2.CHAIN_APPROX_NONE)\n",
    "\n",
    "    arr=[]\n",
    "    \n",
    "    start=np.empty((0,2))\n",
    "    start=np.append(start,np.array([[0, 0]]),axis=0)\n",
    "    \n",
    "    for j in contours:\n",
    "        if cv2.contourArea(j)<min_area:\n",
    "            continue\n",
    "        x_=0\n",
    "        y_=0\n",
    "        for k in j:\n",
    "            x_ += k[0][0]\n",
    "            y_ += k[0][1]\n",
    "        arr.append([x_/len(j), y_/len(j)])\n",
    "    arr = np.array(arr)\n",
    "    \n",
    "    \n",
    "    for j in range(len(arr)):\n",
    "    \n",
    "        if (arr[j][1] < scale_v) or (arr[j][1] > img.shape[0]-scale_v) or (arr[j][0] < scale_h) or (arr[j][0] > img.shape[1]-scale_h):\n",
    "            continue \n",
    "        \n",
    "        top = int(arr[j][1])-scale_v\n",
    "        bottom = int(arr[j][1])+scale_v\n",
    "    \n",
    "        left = int(arr[j][0])-scale_h\n",
    "        right = int(arr[j][0])+scale_h\n",
    "    \n",
    "        if left < 0:\n",
    "            left = 0\n",
    "            right = scale_h*2\n",
    "        if right > img.shape[1]:\n",
    "            right = img.shape[1]\n",
    "            left = img.shape[1]-scale_h*2\n",
    "    \n",
    "        if top < 0:\n",
    "            top = 0\n",
    "            bottom = scale_v*2\n",
    "        if bottom > img.shape[0]:\n",
    "            bottom = img.shape[0]\n",
    "            top = img.shape[0]-scale_v*2      \n",
    "                \n",
    "        img_crop = np.array(img[top:bottom,left:right]).reshape(scale_v*2, scale_h*2, 3).astype(np.uint8)\n",
    "        img_chs = cv2.split(img_crop)\n",
    "        img_preprocessed = cv2.GaussianBlur(img_chs[chs],(5,5),0)\n",
    "            \n",
    "        if fluoro==False:\n",
    "            binimg = (img_preprocessed < np.percentile(img_preprocessed, binimg_thred))\n",
    "            binimg = binimg.astype(np.uint8)\n",
    "        else:\n",
    "            binimg = (img_preprocessed > np.percentile(img_preprocessed, binimg_thred))\n",
    "            binimg = binimg.astype(np.uint8)\n",
    "\n",
    "        img_, contours, _ = cv2.findContours(binimg, cv2.RETR_EXTERNAL, cv2.CHAIN_APPROX_NONE)\n",
    "            \n",
    "        contourArea = []\n",
    "            \n",
    "        for j in contours:\n",
    "            contourArea.append(cv2.contourArea(j))\n",
    "        contourArea_sum = sum(contourArea)\n",
    "        if contourArea_sum<min_area:\n",
    "            continue\n",
    "    \n",
    "        cells = np.append(cells,np.array(img[top:bottom,left:right]).reshape(1,scale_v*2, scale_h*2, 3),axis=0)\n",
    "\n",
    "    print(\"cropped_cell_count:\", cells.shape[0])\n",
    "    \n",
    "    return cells    "
   ]
  },
  {
   "cell_type": "code",
   "execution_count": null,
   "metadata": {
    "collapsed": true
   },
   "outputs": [],
   "source": [
    "def cell_crop(filenames):\n",
    "    \n",
    "    global binimg_thred, min_area, scale_v, scale_h, chs, fluoro\n",
    "    \n",
    "    total_cells = np.empty((0, scale_v*2, scale_h*2, 3))\n",
    "    \n",
    "    for filename in filenames:\n",
    "        print(\"filename:\", filename)\n",
    "        img = scipy.misc.imread(filename)\n",
    "        height, width, chan = img.shape\n",
    "        assert chan == 3\n",
    "        cells = cell_crop_single(img, binimg_thred=binimg_thred, min_area=min_area, scale_v=scale_v, scale_h=scale_h, chs=chs, fluoro=fluoro)\n",
    "        total_cells = np.append(total_cells,cells,axis=0)\n",
    "    \n",
    "    print(\"total_cropped_cell_count:\", total_cells.shape[0])    \n",
    "    \n",
    "    return total_cells  \n"
   ]
  },
  {
   "cell_type": "code",
   "execution_count": null,
   "metadata": {
    "collapsed": true
   },
   "outputs": [],
   "source": [
    "filenames = making_pics_list(directory_path_1)\n",
    "total_cells = cell_crop_from_each_pic(filenames)\n",
    "print(total_cells.shape)"
   ]
  },
  {
   "cell_type": "code",
   "execution_count": null,
   "metadata": {
    "collapsed": true
   },
   "outputs": [],
   "source": [
    "npy_save_name = \"/home/Demo/npy/training_npy/test.npy\"  # Directory path and file name to save numpy files\n",
    "np.save(npy_save_name, total_cells)"
   ]
  }
 ],
 "metadata": {
  "anaconda-cloud": {},
  "kernelspec": {
   "display_name": "Python [default]",
   "language": "python",
   "name": "python3"
  },
  "language_info": {
   "codemirror_mode": {
    "name": "ipython",
    "version": 3
   },
   "file_extension": ".py",
   "mimetype": "text/x-python",
   "name": "python",
   "nbconvert_exporter": "python",
   "pygments_lexer": "ipython3",
   "version": "3.5.2"
  }
 },
 "nbformat": 4,
 "nbformat_minor": 1
}
