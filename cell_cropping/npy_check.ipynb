{
 "cells": [
  {
   "cell_type": "code",
   "execution_count": null,
   "metadata": {
    "collapsed": true
   },
   "outputs": [],
   "source": [
    "import sys\n",
    "import os\n",
    "import glob\n",
    "import json\n",
    "import numpy as np\n",
    "import matplotlib.pyplot as plt\n",
    "import matplotlib as mpl\n",
    "\n",
    "%matplotlib inline"
   ]
  },
  {
   "cell_type": "code",
   "execution_count": null,
   "metadata": {
    "collapsed": true
   },
   "outputs": [],
   "source": [
    "def cell_crop_check_from_npy(save_directory_npy, npy_file_name):\n",
    "    \n",
    "    test_data_path = sorted(glob.glob(save_directory_npy + npy_file_name))\n",
    "    file_names = [os.path.basename(r) for r in test_data_path]\n",
    "    print(file_names)\n",
    "    \n",
    "    for j in range(len(test_data_path)):\n",
    "        npy = np.load(test_data_path[j])\n",
    "        rand = np.random.randint(0, len(npy), 50)\n",
    "        print(file_names[j])\n",
    "    \n",
    "        for i in range(len(rand)):\n",
    "            img = npy[rand[i]]\n",
    "            rimg = 255 - img\n",
    "            plt.subplot(5,10,i+1, xticks=[], yticks=[])\n",
    "            plt.imshow(rimg)\n",
    "    \n",
    "        plt.show()"
   ]
  },
  {
   "cell_type": "code",
   "execution_count": null,
   "metadata": {
    "collapsed": true
   },
   "outputs": [],
   "source": [
    "save_directory_npy = \"/home/Demo/npy/training_npy/\"    # Directory path of numpy file\n",
    "npy_file_name = \"test.npy\"      # numpy file name "
   ]
  },
  {
   "cell_type": "code",
   "execution_count": null,
   "metadata": {
    "collapsed": true
   },
   "outputs": [],
   "source": [
    "cell_crop_check_from_npy(save_directory_npy, npy_file_name)"
   ]
  },
  {
   "cell_type": "code",
   "execution_count": null,
   "metadata": {
    "collapsed": true
   },
   "outputs": [],
   "source": []
  }
 ],
 "metadata": {
  "anaconda-cloud": {},
  "kernelspec": {
   "display_name": "Python [default]",
   "language": "python",
   "name": "python3"
  },
  "language_info": {
   "codemirror_mode": {
    "name": "ipython",
    "version": 3
   },
   "file_extension": ".py",
   "mimetype": "text/x-python",
   "name": "python",
   "nbconvert_exporter": "python",
   "pygments_lexer": "ipython3",
   "version": "3.5.2"
  }
 },
 "nbformat": 4,
 "nbformat_minor": 2
}
