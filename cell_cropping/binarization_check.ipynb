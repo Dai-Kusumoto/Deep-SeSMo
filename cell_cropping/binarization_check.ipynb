{
 "cells": [
  {
   "cell_type": "code",
   "execution_count": null,
   "metadata": {
    "collapsed": true
   },
   "outputs": [],
   "source": [
    "import scipy.misc\n",
    "from scipy import ndimage\n",
    "import sys\n",
    "import os\n",
    "import glob\n",
    "import json\n",
    "from collections import defaultdict\n",
    "import numpy as np\n",
    "import cv2\n",
    "import matplotlib.pyplot as plt\n",
    "import matplotlib as mpl\n",
    "import pandas as pd\n",
    "\n",
    "%matplotlib inline"
   ]
  },
  {
   "cell_type": "code",
   "execution_count": null,
   "metadata": {
    "collapsed": true
   },
   "outputs": [],
   "source": [
    "def binarization_check(check_directory, binimg_thred = 5., fluoro=False):\n",
    "\n",
    "    check_files = glob.glob(check_directory + \"*\")    \n",
    "\n",
    "    for i in range(len(check_files)):\n",
    "        picture = scipy.misc.imread(check_files[i])\n",
    "        height, width, chan = picture.shape\n",
    "        assert chan == 3\n",
    "        img = picture.astype(np.uint8)\n",
    "        \n",
    "        print(check_files)\n",
    "        print(\"\")\n",
    "        print(\"##### original picture #####\")\n",
    "        plt.figure(figsize=(10,7.5))\n",
    "        plt.imshow(img)\n",
    "        plt.show()\n",
    "\n",
    "        img_chs = cv2.split(img)\n",
    "\n",
    "        img_preprocessed = cv2.GaussianBlur(img_chs[chs],(5,5),0)\n",
    "        if fluoro==False:\n",
    "            binimg = (img_preprocessed < np.percentile(img_preprocessed, binimg_thred))\n",
    "            binimg = binimg.astype(np.uint8)\n",
    "        else:\n",
    "            binimg = (img_preprocessed > np.percentile(img_preprocessed, binimg_thred))\n",
    "            binimg = binimg.astype(np.uint8)\n",
    "    \n",
    "        print(\"\")\n",
    "        print(\"##### post binarization #####\")\n",
    "        plt.figure(figsize=(10,7.5))\n",
    "        plt.imshow(binimg)\n",
    "        plt.colorbar()\n",
    "        plt.show()"
   ]
  },
  {
   "cell_type": "code",
   "execution_count": null,
   "metadata": {
    "collapsed": true
   },
   "outputs": [],
   "source": [
    "check_directory = \"/home/Demo/pics/training_data/control/\"\n",
    "n_chan=3               # Number of channels of images\n",
    "chs = 0                    # Channel for image binarization (0:Red, 1:Green, 2:Blue)"
   ]
  },
  {
   "cell_type": "code",
   "execution_count": null,
   "metadata": {
    "collapsed": true
   },
   "outputs": [],
   "source": [
    "binarization_check(check_directory, binimg_thred = 5, fluoro=False)"
   ]
  }
 ],
 "metadata": {
  "anaconda-cloud": {},
  "kernelspec": {
   "display_name": "Python [default]",
   "language": "python",
   "name": "python3"
  },
  "language_info": {
   "codemirror_mode": {
    "name": "ipython",
    "version": 3
   },
   "file_extension": ".py",
   "mimetype": "text/x-python",
   "name": "python",
   "nbconvert_exporter": "python",
   "pygments_lexer": "ipython3",
   "version": "3.5.2"
  }
 },
 "nbformat": 4,
 "nbformat_minor": 2
}
