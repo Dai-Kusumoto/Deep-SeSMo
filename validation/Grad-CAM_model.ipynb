{
 "cells": [
  {
   "cell_type": "code",
   "execution_count": null,
   "metadata": {},
   "outputs": [],
   "source": [
    "import pandas as pd\n",
    "import numpy as np\n",
    "import seaborn as sns\n",
    "import matplotlib.pyplot as plt\n",
    "%matplotlib inline\n",
    "import glob\n",
    "import sys\n",
    "import os\n",
    "\n",
    "from PIL import Image, ImageFilter\n",
    "from PIL import Image\n",
    "import pandas as pd\n",
    "import numpy as np\n",
    "import cv2\n",
    "from keras import backend as K\n",
    "from keras.preprocessing.image import array_to_img, img_to_array, load_img\n",
    "from keras.models import load_model\n",
    "\n",
    "from keras.applications.xception import Xception\n",
    "\n",
    "K.set_learning_phase(1) "
   ]
  },
  {
   "cell_type": "code",
   "execution_count": null,
   "metadata": {
    "collapsed": true
   },
   "outputs": [],
   "source": [
    "def Grad_Cam(input_model, x, layer_name):\n",
    "\n",
    "    X = np.expand_dims(x, axis=0)\n",
    "    X = X.astype('float32')\n",
    "    preprocessed_input = X / 255.0\n",
    "\n",
    "    predictions = model.predict(preprocessed_input)\n",
    "    class_idx = np.argmax(predictions[0])\n",
    "    class_output = model.output[:, class_idx]\n",
    "\n",
    "    conv_output = model.get_layer(layer_name).output   \n",
    "    grads = K.gradients(class_output, conv_output)[0]  \n",
    "    gradient_function = K.function([model.input], [conv_output, grads])\n",
    "\n",
    "    output, grads_val = gradient_function([preprocessed_input])\n",
    "    output, grads_val = output[0], grads_val[0]\n",
    "\n",
    "    weights = np.mean(grads_val, axis=(0, 1))\n",
    "    cam = np.dot(output, weights)\n",
    "\n",
    "    cam = cv2.resize(cam, (50,50), cv2.INTER_LINEAR)\n",
    "    cam = np.maximum(cam, 0) \n",
    "    cam = cam / cam.max()\n",
    "\n",
    "    df = pd.DataFrame(cam)\n",
    "    Image = sns.heatmap(df, cmap='gist_heat',square=True,xticklabels=False, yticklabels=False,cbar=False)\n",
    "   \n",
    "    return Image"
   ]
  },
  {
   "cell_type": "code",
   "execution_count": null,
   "metadata": {
    "collapsed": true
   },
   "outputs": [],
   "source": [
    "model = load_model(\"\")\n",
    "\n",
    "y = load_img('')\n",
    "x =img_to_array(y)"
   ]
  },
  {
   "cell_type": "code",
   "execution_count": null,
   "metadata": {},
   "outputs": [],
   "source": [
    "image = Grad_Cam_gist_heat(model, x, 'conv2d_4') \n",
    "array_to_img(image)"
   ]
  }
 ],
 "metadata": {
  "kernelspec": {
   "display_name": "Python 3",
   "language": "python",
   "name": "python3"
  },
  "language_info": {
   "codemirror_mode": {
    "name": "ipython",
    "version": 3
   },
   "file_extension": ".py",
   "mimetype": "text/x-python",
   "name": "python",
   "nbconvert_exporter": "python",
   "pygments_lexer": "ipython3",
   "version": "3.6.1"
  }
 },
 "nbformat": 4,
 "nbformat_minor": 2
}
