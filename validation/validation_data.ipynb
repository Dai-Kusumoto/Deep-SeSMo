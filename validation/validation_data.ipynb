{
 "cells": [
  {
   "cell_type": "code",
   "execution_count": null,
   "metadata": {
    "collapsed": true
   },
   "outputs": [],
   "source": [
    "import scipy.misc\n",
    "from scipy import ndimage\n",
    "import sys\n",
    "import os\n",
    "import glob\n",
    "import json\n",
    "from collections import defaultdict\n",
    "import numpy as np\n",
    "import cv2\n",
    "import matplotlib.pyplot as plt\n",
    "import matplotlib as mpl\n",
    "import pandas as pd\n",
    "from PIL import Image\n",
    "from keras.utils import np_utils\n",
    "from keras.models import Model, model_from_json\n",
    "from sklearn.metrics import f1_score, accuracy_score, recall_score, precision_score, confusion_matrix, roc_curve, auc\n",
    "\n",
    "%matplotlib inline"
   ]
  },
  {
   "cell_type": "code",
   "execution_count": null,
   "metadata": {
    "collapsed": true
   },
   "outputs": [],
   "source": [
    "def preprocess_input(x0):\n",
    "    return ((x0/255.)-0.5)*2."
   ]
  },
  {
   "cell_type": "code",
   "execution_count": null,
   "metadata": {
    "collapsed": true
   },
   "outputs": [],
   "source": [
    "def data_setting(condition_1, condition_2):\n",
    "    \n",
    "    global X_test, Y_test, y_pred\n",
    "    \n",
    "    test_X = np.concatenate((condition_1, condition_2),axis=0)\n",
    "    test_y = np.concatenate((np.tile(np.array([[0]]),(condition_1.shape[0],1)),\n",
    "                             np.tile(np.array([[1]]),(condition_2.shape[0],1))\n",
    "                            ),axis=0)\n",
    "    X_test = preprocess_input(np.copy(test_X))\n",
    "    y_test = np.copy(test_y)\n",
    "\n",
    "    X_test = X_test.reshape(X_test.shape[0], scale_v*2, scale_h*2, n_chan)\n",
    "    Y_test = np_utils.to_categorical(y_test, 2)\n",
    "    \n",
    "    Y_pred = model.predict(X_test, batch_size=batch_size)\n",
    "    y_pred = np.argmax(Y_pred, axis=1)\n",
    "\n",
    "    return X_test, Y_test, Y_pred, y_pred"
   ]
  },
  {
   "cell_type": "code",
   "execution_count": null,
   "metadata": {
    "collapsed": true
   },
   "outputs": [],
   "source": [
    "def save_parameters(network_name, condition_1, condition_2):\n",
    "   \n",
    "    global F1_score, Accuracy, Precision, Recall, confusion_m\n",
    "    \n",
    "    data_setting(condition_1, condition_2)\n",
    "    \n",
    "    #Final parameters\n",
    "    F1_score = f1_score(np.argmax(Y_test,1), y_pred, average='binary')\n",
    "    Accuracy = accuracy_score(np.argmax(Y_test,1), y_pred)\n",
    "    Precision = precision_score(np.argmax(Y_test,1), y_pred, average='binary')\n",
    "    Recall = recall_score(np.argmax(Y_test,1), y_pred, average='binary')\n",
    "    \n",
    "    parameter_dict = {network_name:[F1_score, Accuracy, Precision, Recall]}\n",
    "    parameter_dataframe = pd.DataFrame(parameter_dict,index=[\"F1_score\", \"Accuracy\", \"Precision\", \"Recall\"])\n",
    "    \n",
    "    print(parameter_dataframe)\n",
    "    parameter_dataframe.to_csv(network_name + \"_final_parameter\" + \".csv\")\n",
    "    \n",
    "    #Confusion matrix\n",
    "    confusion_m = confusion_matrix(np.argmax(Y_test,1), y_pred)\n",
    "    confusion_dataframe = pd.DataFrame(confusion_m, index=[\"Answer:0\", \"Answer:1\"])\n",
    "    confusion_dataframe.columns = [\"Prediction:0\", \"Prediction:1\"]\n",
    "    print(confusion_dataframe)\n",
    "    confusion_dataframe.to_csv(network_name + \"_confusion_matrix\" + \".csv\")\n",
    "    \n",
    "    #AUC of ROC curve\n",
    "\n",
    "    prob = model.predict_proba(X_test)[:,1]\n",
    "    fpr, tpr, threshold = roc_curve(np.argmax(Y_test,1), prob)\n",
    "    roc_auc = auc(fpr, tpr)\n",
    "    print(\"AUC: {0}\".format(roc_auc))\n",
    "    roc_data = [fpr, tpr]\n",
    "    roc_dataframe = pd.DataFrame(roc_data, index=[\"False positive rate\", \"True positive rate\"])\n",
    "    print(roc_dataframe)\n",
    "    roc_dataframe.to_csv(network_name + \"_roc_auc\" + \".csv\")\n",
    "      \n",
    "    plt.plot(fpr, tpr, color='red',lw= 2, label='ROC curve (area = %0.2f)' % roc_auc)\n",
    "    plt.plot([0, 1], [0, 1], color='black', lw= 2, linestyle='--')\n",
    "    plt.xlim([0.0, 1.0])\n",
    "    plt.ylim([0.0, 1.05])\n",
    "    plt.xlabel('False Positive Rate')\n",
    "    plt.ylabel('True Positive Rate')\n",
    "    plt.title('Receiver operating characteristic')\n",
    "    plt.legend(loc=\"best\")\n",
    "     \n",
    "    plt.savefig(network_name + \"_roc_auc\" + \".jpg\")\n",
    "    plt.show()"
   ]
  },
  {
   "cell_type": "code",
   "execution_count": null,
   "metadata": {
    "collapsed": true
   },
   "outputs": [],
   "source": [
    "# Load trained CNN data\n",
    "json_file_path = '/home/Demo/save_data/training_save_data/test.json'\n",
    "h5_file_path = '/home/Demo/save_data/training_save_data/test.h5'"
   ]
  },
  {
   "cell_type": "code",
   "execution_count": null,
   "metadata": {
    "collapsed": true
   },
   "outputs": [],
   "source": [
    "# Prameters for validation\n",
    "\n",
    "n_chan=3            # Number of channels of images\n",
    "\n",
    "scale_v = 25        # Image width/2 (px)\n",
    "scale_h = 25       # Image height/2 (px)\n",
    "\n",
    "batch_size = 128"
   ]
  },
  {
   "cell_type": "code",
   "execution_count": null,
   "metadata": {
    "collapsed": true
   },
   "outputs": [],
   "source": [
    "# load npy\n",
    "control_npy = np.load(\"/home/Demo/npy/validation_npy/test.npy\")   #Load numpy file of healthy condition\n",
    "stress_npy = np.load(\"/home/Demo/npy/validation_npy/test_st.npy\")  #Load numpy file of stress condition"
   ]
  },
  {
   "cell_type": "code",
   "execution_count": null,
   "metadata": {
    "collapsed": true
   },
   "outputs": [],
   "source": [
    "print(control_npy.shape)\n",
    "print(stress_npy.shape)"
   ]
  },
  {
   "cell_type": "code",
   "execution_count": null,
   "metadata": {
    "collapsed": true
   },
   "outputs": [],
   "source": [
    "model = model_from_json(open(json_file_path).read())\n",
    "model.load_weights(h5_file_path)"
   ]
  },
  {
   "cell_type": "code",
   "execution_count": null,
   "metadata": {
    "collapsed": true
   },
   "outputs": [],
   "source": [
    "network_name = \"/home/Demo/save_data/validation_save_data/validation_test\"  #Directory path and name to save results\n",
    "save_parameters(network_name, control_npy, stress_npy)"
   ]
  },
  {
   "cell_type": "code",
   "execution_count": null,
   "metadata": {
    "collapsed": true
   },
   "outputs": [],
   "source": []
  }
 ],
 "metadata": {
  "anaconda-cloud": {},
  "kernelspec": {
   "display_name": "Python [default]",
   "language": "python",
   "name": "python3"
  },
  "language_info": {
   "codemirror_mode": {
    "name": "ipython",
    "version": 3
   },
   "file_extension": ".py",
   "mimetype": "text/x-python",
   "name": "python",
   "nbconvert_exporter": "python",
   "pygments_lexer": "ipython3",
   "version": "3.5.2"
  }
 },
 "nbformat": 4,
 "nbformat_minor": 1
}
