{
 "cells": [
  {
   "cell_type": "code",
   "execution_count": null,
   "metadata": {
    "collapsed": true
   },
   "outputs": [],
   "source": [
    "import scipy.misc\n",
    "from scipy import ndimage\n",
    "import sys\n",
    "import os\n",
    "import glob\n",
    "import json\n",
    "from collections import defaultdict\n",
    "import numpy as np\n",
    "from numpy import random\n",
    "import matplotlib.pyplot as plt\n",
    "import matplotlib as mpl\n",
    "import pandas as pd\n",
    "import sklearn.cross_validation as crv\n",
    "from sklearn.metrics import f1_score, accuracy_score, recall_score, precision_score\n",
    "from sklearn.metrics import confusion_matrix,  roc_curve, auc\n",
    "from keras.preprocessing.image import ImageDataGenerator\n",
    "from keras.optimizers import SGD\n",
    "from keras import backend as K\n",
    "from keras.utils import np_utils\n",
    "from keras.applications.inception_v3 import InceptionV3\n",
    "from keras.applications.xception import Xception\n",
    "from keras.applications.vgg19 import VGG19\n",
    "from keras.models import Model, model_from_json, Sequential\n",
    "from keras.layers import Conv2D, MaxPooling2D, Dense, GlobalAveragePooling2D, GlobalMaxPooling2D, Dropout, Flatten\n",
    "from keras.callbacks import ModelCheckpoint\n",
    "from keras.initializers import glorot_normal, glorot_uniform, he_normal, he_uniform, lecun_normal, lecun_uniform\n",
    "\n",
    "%matplotlib inline"
   ]
  },
  {
   "cell_type": "code",
   "execution_count": null,
   "metadata": {
    "collapsed": true
   },
   "outputs": [],
   "source": [
    "def preprocess_input(x0):\n",
    "    return ((x0/255.)-0.5)*2."
   ]
  },
  {
   "cell_type": "code",
   "execution_count": null,
   "metadata": {
    "collapsed": true
   },
   "outputs": [],
   "source": [
    "def data_setting(condition_1, condition_2):\n",
    "    \n",
    "    global test_size\n",
    "    \n",
    "    X_all = np.concatenate((condition_1, condition_2),axis=0)\n",
    "    y_all = np.concatenate((np.tile(np.array([[0]]),(condition_1.shape[0],1)),\n",
    "                             np.tile(np.array([[1]]),(condition_2.shape[0],1))\n",
    "                            ),axis=0)\n",
    "    train_X, test_X, train_y, test_y = crv.train_test_split(X_all,y_all,test_size=test_size,random_state=0)\n",
    "    \n",
    "    X_train = preprocess_input(np.copy(train_X))\n",
    "    X_test = preprocess_input(np.copy(test_X))\n",
    "    y_train = np.copy(train_y)\n",
    "    y_test = np.copy(test_y)\n",
    "\n",
    "    X_train = X_train.reshape(X_train.shape[0], scale_v*2, scale_h*2, n_chan)\n",
    "    Y_train = np_utils.to_categorical(y_train, 2)\n",
    "    X_test = X_test.reshape(X_test.shape[0], scale_v*2, scale_h*2, n_chan)\n",
    "    Y_test = np_utils.to_categorical(y_test, 2)\n",
    "\n",
    "    return X_train, X_test, Y_train, Y_test"
   ]
  },
  {
   "cell_type": "code",
   "execution_count": null,
   "metadata": {
    "collapsed": true
   },
   "outputs": [],
   "source": [
    "def model_CNN():\n",
    "   \n",
    "    global nb_epoch, opt, my_init\n",
    "    \n",
    "    model = Sequential()\n",
    "    \n",
    "     \n",
    "    model.add(Conv2D(32, (3, 3), activation='relu', input_shape=(50, 50, 3), kernel_initializer=my_init))\n",
    "    model.add(Conv2D(32, (3, 3), activation='relu'))\n",
    "    model.add(MaxPooling2D(pool_size=(2, 2)))\n",
    "    model.add(Dropout(0.5))\n",
    "\n",
    "    model.add(Conv2D(64, (3, 3), activation='relu'))\n",
    "    model.add(Conv2D(128, (3, 3), activation='relu'))\n",
    "    model.add(MaxPooling2D(pool_size=(2, 2)))\n",
    "    model.add(Dropout(0.5))\n",
    "    \n",
    "    model.add(Flatten())\n",
    "    model.add(Dense(256, activation='relu'))\n",
    "    model.add(Dropout(0.5))\n",
    "    model.add(Dense(2, activation='softmax'))\n",
    "    \n",
    "     \n",
    "    model.compile(loss='categorical_crossentropy',\n",
    "             optimizer=opt,\n",
    "             metrics=['accuracy'])\n",
    "    \n",
    "    return model"
   ]
  },
  {
   "cell_type": "code",
   "execution_count": null,
   "metadata": {
    "collapsed": true
   },
   "outputs": [],
   "source": [
    "def plot_history(history):\n",
    "    \n",
    "    plt.plot(history.history['acc'],\"o-\",label=\"accuracy\")\n",
    "    plt.plot(history.history['val_acc'],\"o-\",label=\"val_acc\")\n",
    "    plt.title('model accuracy')\n",
    "    plt.xlabel('epoch')\n",
    "    plt.ylabel('accuracy')\n",
    "    plt.legend(loc=\"lower right\")\n",
    "    plt.ylim([0,1])\n",
    "    plt.show()\n",
    "\n",
    "    plt.plot(history.history['loss'],\"o-\",label=\"loss\",)\n",
    "    plt.plot(history.history['val_loss'],\"o-\",label=\"val_loss\")\n",
    "    plt.title('model loss')\n",
    "    plt.xlabel('epoch')\n",
    "    plt.ylabel('loss')\n",
    "    plt.legend(loc='upper right')\n",
    "    plt.show()\n",
    "    "
   ]
  },
  {
   "cell_type": "code",
   "execution_count": null,
   "metadata": {
    "collapsed": true
   },
   "outputs": [],
   "source": [
    "def do_CNN(X_train, X_test, Y_train, Y_test):\n",
    "    \n",
    "    global batch_size, nb_epoch, model, history_x, shift_range, std_normalization, whitening\n",
    "    \n",
    "    datagen = ImageDataGenerator(\n",
    "        featurewise_center=False,\n",
    "        samplewise_center=False,\n",
    "        featurewise_std_normalization=False,\n",
    "        samplewise_std_normalization=False,\n",
    "        zca_whitening=False,\n",
    "        rotation_range=360,\n",
    "        width_shift_range=0.2,\n",
    "        height_shift_range=0.2,\n",
    "        horizontal_flip=True,\n",
    "        vertical_flip=True,\n",
    "        fill_mode='nearest')\n",
    "    \n",
    "    history_x = model.fit_generator(datagen.flow(X_train, Y_train, batch_size=batch_size, shuffle=True),\n",
    "    steps_per_epoch=X_train.shape[0]//batch_size,\n",
    "    epochs=nb_epoch,\n",
    "    validation_data=datagen.flow(X_test, Y_test, batch_size=batch_size),\n",
    "    validation_steps=X_test.shape[0]//batch_size)\n",
    "    "
   ]
  },
  {
   "cell_type": "code",
   "execution_count": null,
   "metadata": {
    "collapsed": true
   },
   "outputs": [],
   "source": [
    "def Training_CNN(condition_1, condition_2):\n",
    "    \n",
    "    global nb_classes, batch_size, model, history_x, Y_test, y_pred, X_test\n",
    "    \n",
    "    X_train, X_test, Y_train, Y_test = data_setting(condition_1, condition_2)\n",
    "    \n",
    "    model = model_CNN()\n",
    "    \n",
    "    do_CNN(X_train, X_test, Y_train, Y_test)\n",
    "    \n",
    "    Y_pred = model.predict(X_test, batch_size=batch_size)\n",
    "    y_pred = np.argmax(Y_pred, axis=1)\n",
    "    print('final accuracy:',f1_score(np.argmax(Y_test,1), y_pred, average='macro'))\n",
    "    \n",
    "    plot_history(history_x)\n"
   ]
  },
  {
   "cell_type": "code",
   "execution_count": null,
   "metadata": {
    "collapsed": true
   },
   "outputs": [],
   "source": [
    "def save_model(network_name):\n",
    "    \n",
    "    global model\n",
    "    \n",
    "    model_json_str = model.to_json()\n",
    "    \n",
    "    json_name = str(network_name) + '.json'\n",
    "    h5_name = str(network_name) + '.h5'\n",
    "    open(json_name, 'w').write(model_json_str)\n",
    "    model.save_weights(h5_name)"
   ]
  },
  {
   "cell_type": "code",
   "execution_count": null,
   "metadata": {
    "collapsed": true
   },
   "outputs": [],
   "source": [
    "def save_history(network_name):\n",
    "    \n",
    "    global history_x, nb_epoch\n",
    "    \n",
    "    epochs = range(1, nb_epoch+1)\n",
    "    data_history = pd.DataFrame(history_x.history, index = epochs)\n",
    "\n",
    "    print(data_history)\n",
    "    data_history.to_csv(network_name + \"_history\" + \".csv\")"
   ]
  },
  {
   "cell_type": "code",
   "execution_count": null,
   "metadata": {
    "collapsed": true
   },
   "outputs": [],
   "source": [
    "def save_parameters(network_name):\n",
    "    \n",
    "    global F1_score, Accuracy, Precision, Recall, confusion_m\n",
    "    \n",
    "    #Final parameters\n",
    "    F1_score = f1_score(np.argmax(Y_test,1), y_pred, average='binary')\n",
    "    Accuracy = accuracy_score(np.argmax(Y_test,1), y_pred)\n",
    "    Precision = precision_score(np.argmax(Y_test,1), y_pred, average='binary')\n",
    "    Recall = recall_score(np.argmax(Y_test,1), y_pred, average='binary')\n",
    "    \n",
    "    parameter_dict = {network_name:[F1_score, Accuracy, Precision, Recall]}\n",
    "    parameter_dataframe = pd.DataFrame(parameter_dict,index=[\"F1_score\", \"Accuracy\", \"Precision\", \"Recall\"])\n",
    "    \n",
    "    print(parameter_dataframe)\n",
    "    parameter_dataframe.to_csv(network_name + \"_final_parameter\" + \".csv\")\n",
    "    \n",
    "    #Confusion matrix\n",
    "    confusion_m = confusion_matrix(np.argmax(Y_test,1), y_pred)\n",
    "    confusion_dataframe = pd.DataFrame(confusion_m, index=[\"Answer:0\", \"Answer:1\"])\n",
    "    confusion_dataframe.columns = [\"Prediction:0\", \"Prediction:1\"]\n",
    "    print(confusion_dataframe)\n",
    "    confusion_dataframe.to_csv(network_name + \"_confusion_matrix\" + \".csv\")\n",
    "    \n",
    "    #AUC of ROC curve\n",
    "\n",
    "    prob = model.predict_proba(X_test)[:,1]\n",
    "    fpr, tpr, threshold = roc_curve(np.argmax(Y_test,1), prob)\n",
    "    roc_auc = auc(fpr, tpr)\n",
    "    print(\"AUC: {0}\".format(roc_auc))\n",
    "    roc_data = [fpr, tpr]\n",
    "    roc_dataframe = pd.DataFrame(roc_data, index=[\"False positive rate\", \"True positive rate\"])\n",
    "    print(roc_dataframe)\n",
    "    roc_dataframe.to_csv(network_name + \"_roc_auc\" + \".csv\")\n",
    "      \n",
    "    plt.plot(fpr, tpr, color='red',lw= 2, label='ROC curve (area = %0.2f)' % roc_auc)\n",
    "    plt.plot([0, 1], [0, 1], color='black', lw= 2, linestyle='--')\n",
    "    plt.xlim([0.0, 1.0])\n",
    "    plt.ylim([0.0, 1.05])\n",
    "    plt.xlabel('False Positive Rate')\n",
    "    plt.ylabel('True Positive Rate')\n",
    "    plt.title('Receiver operating characteristic')\n",
    "    plt.legend(loc=\"best\")\n",
    "     \n",
    "    plt.savefig(network_name + \"_roc_auc\" + \".jpg\")\n",
    "    plt.show()"
   ]
  },
  {
   "cell_type": "code",
   "execution_count": null,
   "metadata": {
    "collapsed": true
   },
   "outputs": [],
   "source": [
    "# Prameters for training\n",
    "\n",
    "n_chan=3            # Number of iamge channels\n",
    "\n",
    "scale_v = 25        # Width of images/2 (px)\n",
    "scale_h = 25       # Height of images/2 (px)\n",
    "\n",
    "test_size = 0.2\n",
    "nb_epoch = 100\n",
    "nb_classes = 2\n",
    "batch_size = 128\n",
    "\n",
    "lr_rate=0.032       #Learning rate\n",
    "sgd = SGD(lr=lr_rate, clipnorm=1.)       #Optimizer\n",
    "opt = sgd\n",
    "my_init = \"glorot_uniform\"                  #Weights initialization"
   ]
  },
  {
   "cell_type": "code",
   "execution_count": null,
   "metadata": {
    "collapsed": true
   },
   "outputs": [],
   "source": [
    "#Load npy files to train\n",
    "\n",
    "control_npy = np.load(\"/home/Demo/npy/training_npy/test.npy\")\n",
    "stress_npy = np.load(\"/home/Demo/npy/training_npy/test_st.npy\")"
   ]
  },
  {
   "cell_type": "code",
   "execution_count": null,
   "metadata": {
    "collapsed": true
   },
   "outputs": [],
   "source": [
    "print(control_npy.shape)\n",
    "print(stress_npy.shape)"
   ]
  },
  {
   "cell_type": "code",
   "execution_count": null,
   "metadata": {
    "collapsed": true
   },
   "outputs": [],
   "source": [
    "Training_CNN(control_npy, stress_npy)\n",
    "network_name =  \"/home/Demo/save_data/test\"                  #Directory path and name of save data\n",
    "save_model(network_name)\n",
    "save_history(network_name)\n",
    "save_parameters(network_name)"
   ]
  },
  {
   "cell_type": "code",
   "execution_count": null,
   "metadata": {
    "collapsed": true
   },
   "outputs": [],
   "source": []
  }
 ],
 "metadata": {
  "anaconda-cloud": {},
  "kernelspec": {
   "display_name": "Python 3",
   "language": "python",
   "name": "python3"
  },
  "language_info": {
   "codemirror_mode": {
    "name": "ipython",
    "version": 3
   },
   "file_extension": ".py",
   "mimetype": "text/x-python",
   "name": "python",
   "nbconvert_exporter": "python",
   "pygments_lexer": "ipython3",
   "version": "3.6.1"
  }
 },
 "nbformat": 4,
 "nbformat_minor": 1
}
